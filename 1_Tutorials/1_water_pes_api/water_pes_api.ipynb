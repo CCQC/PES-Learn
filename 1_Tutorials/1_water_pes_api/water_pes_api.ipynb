{
 "cells": [
  {
   "cell_type": "markdown",
   "metadata": {},
   "source": [
    "# Computing a simple potential energy surface of water using PES-Learn's Python API"
   ]
  },
  {
   "cell_type": "markdown",
   "metadata": {},
   "source": [
    "First, simply import PES-Learn:"
   ]
  },
  {
   "cell_type": "code",
   "execution_count": 1,
   "metadata": {},
   "outputs": [],
   "source": [
    "import peslearn"
   ]
  },
  {
   "cell_type": "markdown",
   "metadata": {},
   "source": [
    "Here we will generate a simple potential energy surface of water. First, we need to create an input object which contains information such as the grid of geometries we wish to generate and the various keyword options. The input object is initialized from a string. Here we use a multiline string with triple quotes. Anything can go in this multiline string; only text patterns which match PES-Learn keyword options will be considered. Because of this, if a keyword is spelled wrong it will be ignored. We choose to scan over the OH bond distances from 0.85 to 1.2 angstroms and the bond angle from 90 to 120 degrees. Also, we will remove redundant geometries arising from equivalent values of r1 and r2."
   ]
  },
  {
   "cell_type": "code",
   "execution_count": 2,
   "metadata": {},
   "outputs": [],
   "source": [
    "input_string = (\"\"\"\n",
    "O \n",
    "H 1 r1\n",
    "H 1 r2 2 a2 \n",
    "\n",
    "r1 = [0.85,1.20, 5]\n",
    "r2 = [0.85,1.20, 5]\n",
    "a2 = [90.0,120.0, 5]\n",
    "\n",
    "remove_redundancy = true\n",
    "input_name = input.dat\n",
    "                \"\"\")"
   ]
  },
  {
   "cell_type": "markdown",
   "metadata": {},
   "source": [
    "The `input_name` value tells PES-Learn what to call the produced input files based on our template file `template.dat`. In this case, our `template.dat` is a Psi4 input file, which is in the same directory of this notebook and computes a density-fitted MP2 energy with a 6-31g basis set. The only relevant part of this file from PES-Learn's perspective is the Cartesian coordinates, which will be found and replaced by the Cartesian coordinates corresponding to the internal coordinate grid given above to create a series of input files. \n",
    "\n",
    "We instantiate a PES-Learn InputProcessor object with the input string given above, as well as a template object with the template file `template.dat`:"
   ]
  },
  {
   "cell_type": "code",
   "execution_count": 3,
   "metadata": {},
   "outputs": [],
   "source": [
    "input_object = peslearn.InputProcessor(input_string)\n",
    "template_object = peslearn.datagen.Template(\"./template.dat\")"
   ]
  },
  {
   "cell_type": "markdown",
   "metadata": {},
   "source": [
    "The input_object holds the Z-Matrix connectivity information as well as the internal coordinate ranges and keyword options. A PES-Learn Molecule object takes in this Z-Matrix information and derives obtains a bunch of information about the molecule, and is able to update its internal coordinates and convert to Cartesian coordinates. "
   ]
  },
  {
   "cell_type": "code",
   "execution_count": 4,
   "metadata": {},
   "outputs": [],
   "source": [
    "molecule_object = peslearn.datagen.Molecule(input_object.zmat_string)"
   ]
  },
  {
   "cell_type": "markdown",
   "metadata": {},
   "source": [
    "We are now ready to generate all of the Psi4 input files for these geometries. To do this, we create a ConfigurationSpace object. This object actually creates all of the internal coordinate displacements, uses the Molecule object to obtain Cartesian coordinates, and also finds the interatomic distances. Each of the coordinate representations are kept in a pandas DataFrame. The interatomic distances are used to remove redundant geometries using permutational symmetry of the two identical hydrogen atoms.  The `generate_PES` method of the Configuration space object creates a directory `PES_data` containing a series of subdirectories with integer values `1`, `2`, `3`... which each contain a unique cartesian coordinate Psi4 input file across the PES of water. "
   ]
  },
  {
   "cell_type": "code",
   "execution_count": 5,
   "metadata": {},
   "outputs": [
    {
     "name": "stdout",
     "output_type": "stream",
     "text": [
      "125 internal coordinate displacements generated in 0.00139 seconds\n",
      "Total displacements: 125\n",
      "Number of interatomic distances: 3\n",
      "Geometry grid generated in 0.01 seconds\n",
      "Removing symmetry-redundant geometries...  Redundancy removal took 0.01 seconds\n",
      "Removed 50 redundant geometries from a set of 125 geometries\n",
      "Your PES inputs are now generated. Run the jobs in the PES_data directory and then parse.\n"
     ]
    }
   ],
   "source": [
    "config = peslearn.datagen.ConfigurationSpace(molecule_object, input_object)\n",
    "config.generate_PES(template_object)"
   ]
  },
  {
   "cell_type": "markdown",
   "metadata": {},
   "source": [
    "We see here that 50 redundant geometries corresponding to identical molecular configurations were removed, leaving just 75 energies needed to be explicitly computed. We proceed to compute the energies with Psi4 by moving to each subdirectory created by PES-Learn, PES_data/1, PES_data/2 ..., and running Psi4 with the command line:"
   ]
  },
  {
   "cell_type": "code",
   "execution_count": 1,
   "metadata": {},
   "outputs": [],
   "source": [
    "import os\n",
    "os.chdir('PES_data')\n",
    "for i in range(1,76):\n",
    "    os.chdir(str(i))\n",
    "    if \"output.dat\" not in os.listdir('.'):\n",
    "        print(i, end=', ')\n",
    "        os.system('psi4 input.dat')\n",
    "    os.chdir('../')\n",
    "os.chdir(\"../\")"
   ]
  },
  {
   "cell_type": "markdown",
   "metadata": {},
   "source": [
    "Once the computations are complete, we wish to create a dataset of geometry, energy pairs for creating a machine learning model of the potential energy surface. To do this, we use the parsing capabilities of PES-Learn to extract the energies from the Psi4 output files. There are two schemes for doing this: regular expressions, and cclib. In this case, for my version of Psi4, cclib does not work for parsing MP2 energies. Luckily we can use the general regular expression scheme. We first need to come up with a regular expression pattern which matches the energy we want from the Psi4 output file. We observe that the MP2 energy in an output file is printed as follows:\n",
    "```\n",
    "     ==================> DF-MP2 Energies <====================\n",
    "    -----------------------------------------------------------\n",
    "     Reference Energy          =     -75.9381224063424440 [Eh]\n",
    "     Singles Energy            =      -0.0000000000000000 [Eh]\n",
    "     Same-Spin Energy          =      -0.0277202185419175 [Eh]\n",
    "     Opposite-Spin Energy      =      -0.0919994716794230 [Eh]\n",
    "     Correlation Energy        =      -0.1197196902213406 [Eh]\n",
    "     Total Energy              =     -76.0578420965637889 [Eh]\n",
    "```\n",
    "a regular expression which grabs the energy we want is \n",
    "`Total Energy\\s+=\\s+(-\\d+\\.\\d+)` which matches the words 'Total Energy' followed by one or more whitespaces `\\s+`, an equal sign `=`, one or more whitespaces `\\s+`, and then a negative floating point number `-\\d+\\.\\d+` which we have necessarily enclosed in parentheses to indicate that we only want to capture the number itself, not the whole line. This is a bit cumbersome to use, so in practice I recommend trying out various regular expressions via trial and error using Pythex https://pythex.org/ to ensure that the pattern is matched.\n",
    "In the context of PES-Learn, we would set the following keywords in the input:  \n",
    "`energy = 'regex'`  \n",
    "`energy_regex = 'Total Energy\\s+=\\s+(-\\d+\\.\\d+)'`."
   ]
  },
  {
   "cell_type": "markdown",
   "metadata": {},
   "source": [
    "__However, there is a problem: Psi4 prints the Hartree-Fock, MP2, and SCS-MP2 energies with the same sort of syntax \"Total Energy = (float)\"__: \n",
    "```\n",
    "  @DF-RHF Final Energy:   -75.93812240634244\n",
    "\n",
    "   => Energetics <=\n",
    "\n",
    "    Nuclear Repulsion Energy =             10.4012001939225183\n",
    "    One-Electron Energy =                -124.9779212700375410\n",
    "    Two-Electron Energy =                  38.6385986697725912\n",
    "    Total Energy =                        -75.9381224063424298\n",
    "...\n",
    "...\n",
    "...\n",
    "     ==================> DF-MP2 Energies <====================\n",
    "    -----------------------------------------------------------\n",
    "     Reference Energy          =     -75.9381224063424440 [Eh]\n",
    "     Singles Energy            =      -0.0000000000000000 [Eh]\n",
    "     Same-Spin Energy          =      -0.0277202185419175 [Eh]\n",
    "     Opposite-Spin Energy      =      -0.0919994716794230 [Eh]\n",
    "     Correlation Energy        =      -0.1197196902213406 [Eh]\n",
    "     Total Energy              =     -76.0578420965637889 [Eh]\n",
    "    -----------------------------------------------------------\n",
    "     ================> DF-SCS-MP2 Energies <==================\n",
    "    -----------------------------------------------------------\n",
    "     SCS Same-Spin Scale       =       0.3333333333333333 [-]\n",
    "     SCS Opposite-Spin Scale   =       1.2000000000000000 [-]\n",
    "     SCS Same-Spin Energy      =      -0.0092400728473058 [Eh]\n",
    "     SCS Opposite-Spin Energy  =      -0.1103993660153076 [Eh]\n",
    "     SCS Correlation Energy    =      -0.1196394388626135 [Eh]\n",
    "     SCS Total Energy          =     -76.0577618452050643 [Eh]\n",
    "    -----------------------------------------------------------\n",
    "```\n",
    "\n",
    "We first note that PES-Learn by default takes the _last match occurance_ of the pattern as the energy. Thus, the Hartree-Fock line is not relevant since it occurs earlier. However, with our above regex we will accidentally match the SCS Total Energy line. To fix this, we just input some spaces before the word 'Total' to ensure the correct energy is matched. Using the `set_keyword` method, we can directly modify our input_object with the new parsing-relevant keywords. We note here that these could have just as easily been included at the very beginning in our multi-line input string, but this method is valid as well:"
   ]
  },
  {
   "cell_type": "code",
   "execution_count": 7,
   "metadata": {},
   "outputs": [],
   "source": [
    "input_object.set_keyword({'energy':'regex'})\n",
    "input_object.set_keyword({'energy_regex':'   Total Energy\\s+=\\s+(-\\d+\\.\\d+)'})"
   ]
  },
  {
   "cell_type": "markdown",
   "metadata": {},
   "source": [
    "We also choose to create a PES file using interatomic distances as the geometry representation instead of the internal coordinates. The reason is because we plan to use a permutation-invariant geometry representation when we do machine learning, and this requires the interatomic distances format. "
   ]
  },
  {
   "cell_type": "code",
   "execution_count": 8,
   "metadata": {},
   "outputs": [],
   "source": [
    "input_object.set_keyword({'pes_format':'interatomics'})"
   ]
  },
  {
   "cell_type": "markdown",
   "metadata": {},
   "source": [
    "After a bit of work, we are ready to parse the output files and create the dataset, which is a simple csv:"
   ]
  },
  {
   "cell_type": "code",
   "execution_count": 9,
   "metadata": {},
   "outputs": [
    {
     "name": "stdout",
     "output_type": "stream",
     "text": [
      "Parsed data has been written to PES.dat\n"
     ]
    }
   ],
   "source": [
    "peslearn.utils.parsing_helper.parse(input_object, molecule_object)"
   ]
  },
  {
   "cell_type": "markdown",
   "metadata": {},
   "source": [
    "Let's take a look at this dataset:"
   ]
  },
  {
   "cell_type": "code",
   "execution_count": 10,
   "metadata": {},
   "outputs": [
    {
     "name": "stdout",
     "output_type": "stream",
     "text": [
      "          r0      r1      r2          E\n",
      "0   1.559006  0.9375  0.9375 -75.985033\n",
      "1   1.487538  0.9375  0.9375 -75.983615\n",
      "2   1.623798  0.9375  0.9375 -75.983490\n",
      "3   1.632483  1.0250  0.9375 -75.979965\n",
      "4   1.557867  1.0250  0.9375 -75.979436\n",
      "5   1.409700  0.9375  0.9375 -75.978781\n",
      "6   1.700138  1.0250  0.9375 -75.977620\n",
      "7   1.476613  1.0250  0.9375 -75.975593\n",
      "8   1.626374  1.0250  1.0250 -75.975385\n",
      "9   1.704513  1.0250  1.0250 -75.975163\n",
      "10  1.541272  1.0250  1.0250 -75.972390\n",
      "11  1.775352  1.0250  1.0250 -75.972145\n",
      "12  1.487047  0.9375  0.8500 -75.971909\n",
      "13  1.548639  0.9375  0.8500 -75.971168\n",
      "14  1.325825  0.9375  0.9375 -75.970199\n",
      "15  1.419119  0.9375  0.8500 -75.969622\n",
      "16  1.389076  1.0250  0.9375 -75.968116\n",
      "17  1.562034  1.0250  0.8500 -75.966560\n",
      "18  1.449569  1.0250  1.0250 -75.965868\n",
      "19  1.629860  1.1125  0.9375 -75.965474\n",
      "20  1.491347  1.0250  0.8500 -75.965295\n",
      "21  1.707283  1.1125  0.9375 -75.965147\n",
      "22  1.626153  1.0250  0.8500 -75.964895\n",
      "23  1.345151  0.9375  0.8500 -75.963847\n",
      "24  1.545585  1.1125  0.9375 -75.962611\n",
      "25  1.777507  1.1125  0.9375 -75.962048\n",
      "26  1.696629  1.1125  1.0250 -75.961554\n",
      "27  1.414414  1.0250  0.8500 -75.960651\n",
      "28  1.777931  1.1125  1.0250 -75.960609\n",
      "29  1.608093  1.1125  1.0250 -75.959401\n",
      "30  1.472243  0.8500  0.8500 -75.959264\n",
      "31  1.413498  0.8500  0.8500 -75.959080\n",
      "32  1.851646  1.1125  1.0250 -75.956962\n",
      "33  1.454841  1.1125  0.9375 -75.956255\n",
      "34  1.348701  0.8500  0.8500 -75.955794\n",
      "35  1.265467  0.9375  0.8500 -75.954234\n",
      "36  1.512707  1.1125  1.0250 -75.953858\n",
      "37  1.331587  1.0250  0.8500 -75.952297\n",
      "38  1.638263  1.1125  0.8500 -75.951463\n",
      "39  1.565135  1.1125  0.8500 -75.951179\n",
      "40  1.278128  0.8500  0.8500 -75.948932\n",
      "41  1.704635  1.1125  0.8500 -75.948923\n",
      "42  1.765211  1.1125  1.1125 -75.947854\n",
      "43  1.485602  1.1125  0.8500 -75.947648\n",
      "44  1.703305  1.2000  0.9375 -75.946490\n",
      "45  1.672844  1.1125  1.1125 -75.946405\n",
      "46  1.850020  1.1125  1.1125 -75.946316\n",
      "47  1.783240  1.2000  0.9375 -75.945385\n",
      "48  1.616351  1.2000  0.9375 -75.944547\n",
      "49  1.768423  1.2000  1.0250 -75.942713\n",
      "50  1.926907  1.1125  1.1125 -75.942161\n",
      "51  1.573313  1.1125  1.1125 -75.941700\n",
      "52  1.855776  1.2000  0.9375 -75.941615\n",
      "53  1.676818  1.2000  1.0250 -75.941350\n",
      "54  1.852573  1.2000  1.0250 -75.941111\n",
      "55  1.400056  1.1125  0.8500 -75.940553\n",
      "56  1.522796  1.2000  0.9375 -75.939274\n",
      "57  1.202082  0.8500  0.8500 -75.938122\n",
      "58  1.928892  1.2000  1.0250 -75.936908\n",
      "59  1.578171  1.2000  1.0250 -75.936758\n",
      "60  1.640272  1.2000  0.8500 -75.932031\n",
      "61  1.715568  1.2000  0.8500 -75.931421\n",
      "62  1.558452  1.2000  0.8500 -75.929538\n",
      "63  1.835403  1.2000  1.1125 -75.929147\n",
      "64  1.739586  1.2000  1.1125 -75.928363\n",
      "65  1.783956  1.2000  0.8500 -75.928100\n",
      "66  1.923388  1.2000  1.1125 -75.927074\n",
      "67  1.636355  1.2000  1.1125 -75.924477\n",
      "68  1.470544  1.2000  0.8500 -75.923650\n",
      "69  2.003162  1.2000  1.1125 -75.922477\n",
      "70  1.904048  1.2000  1.2000 -75.910576\n",
      "71  1.804416  1.2000  1.2000 -75.910336\n",
      "72  1.995527  1.2000  1.2000 -75.908080\n",
      "73  1.697056  1.2000  1.2000 -75.907144\n",
      "74  2.078461  1.2000  1.2000 -75.903146\n"
     ]
    }
   ],
   "source": [
    "import pandas as pd\n",
    "data = pd.read_csv('PES.dat')\n",
    "print(data)"
   ]
  },
  {
   "cell_type": "markdown",
   "metadata": {},
   "source": [
    "As expected, we obtain 75 geometry, energy pairs (interatomic distances in Angstroms, Hartrees) with the energies sorted in increasing order.  We are now ready to do some machine learning on this dataset. However, we did not set any keywords related to ML so lets do that here:"
   ]
  },
  {
   "cell_type": "code",
   "execution_count": 11,
   "metadata": {},
   "outputs": [],
   "source": [
    "input_object.set_keyword({'use_pips':'true'})\n",
    "input_object.set_keyword({'training_points':40})\n",
    "input_object.set_keyword({'sampling':'structure_based'})\n",
    "input_object.set_keyword({'hp_maxit':10})\n",
    "input_object.set_keyword({'rseed':0})"
   ]
  },
  {
   "cell_type": "markdown",
   "metadata": {},
   "source": [
    "We set the use of permutation invariant polynomials (pips). We also choose 40 training points out of our 75 point dataset. We sample the 40 training points with the structure-based sampling algorithm, and train over 10 different hyperparamter configurations. For reproduciblity, we fix the random seed of the hyperparameter search.\n",
    "\n",
    "We use Gaussian process regression here. We supply a dataset, and input_object for access to the various keywords we have set, and a `molecule_type` which is required for using PIPs. The `molecule_type` must be a string given in the order of most common element first, e.g. A3B2C, A4B, etc. We could alternatively supply our Molecule object from before by passing `molecule=molecule_object` instead."
   ]
  },
  {
   "cell_type": "code",
   "execution_count": 12,
   "metadata": {},
   "outputs": [
    {
     "name": "stdout",
     "output_type": "stream",
     "text": [
      "Using permutation invariant polynomial transformation for molecule type  A2B\n",
      "Beginning hyperparameter optimization...\n",
      "Trying 10 combinations of hyperparameters\n",
      "Training with 40 points (Full dataset contains 75 points).\n",
      "Using structure_based training set point sampling.\n",
      "Hyperparameters: \n",
      "{'morse_transform': {'morse': False}, 'pip': {'degree_reduction': True, 'pip': True}, 'scale_X': None, 'scale_y': 'mm11'}\n",
      "Test Dataset 84.45\n",
      "Full Dataset 73.93\n",
      "Median error: 48.46\n",
      "Max 5 errors: [148.2 153.1 154.5 171.6 225.3]\n",
      "Hyperparameters: \n",
      "{'morse_transform': {'morse': True, 'morse_alpha': 1.9000000000000001}, 'pip': {'degree_reduction': False, 'pip': True}, 'scale_X': 'std', 'scale_y': 'mm01'}\n",
      "Test Dataset 1323.87\n",
      "Full Dataset 978.36\n",
      "Median error: 606.51\n",
      "Max 5 errors: [1405.8 2066.5 3306.  3561.  3768.6]\n",
      "Hyperparameters: \n",
      "{'morse_transform': {'morse': True, 'morse_alpha': 1.7000000000000002}, 'pip': {'degree_reduction': False, 'pip': True}, 'scale_X': 'mm01', 'scale_y': 'mm01'}\n",
      "Test Dataset 1330.24\n",
      "Full Dataset 1199.73\n",
      "Median error: 840.42\n",
      "Max 5 errors: [2423.7 2483.6 2511.1 2555.3 2822.4]\n",
      "Hyperparameters: \n",
      "{'morse_transform': {'morse': False}, 'pip': {'degree_reduction': False, 'pip': True}, 'scale_X': 'mm01', 'scale_y': 'mm11'}\n",
      "Test Dataset 2641.07\n",
      "Full Dataset 2437.91\n",
      "Median error: 1402.11\n",
      "Max 5 errors: [5656.1 5861.7 5948.3 6609.1 6688. ]\n",
      "Hyperparameters: \n",
      "{'morse_transform': {'morse': False}, 'pip': {'degree_reduction': False, 'pip': True}, 'scale_X': None, 'scale_y': 'mm01'}\n",
      "Test Dataset 9.38\n",
      "Full Dataset 6.44\n",
      "Median error: 1.09\n",
      "Max 5 errors: [11.8 13.5 18.4 24.8 34.8]\n",
      "Hyperparameters: \n",
      "{'morse_transform': {'morse': False}, 'pip': {'degree_reduction': False, 'pip': True}, 'scale_X': 'std', 'scale_y': 'std'}\n",
      "Test Dataset 1358.88\n",
      "Full Dataset 1005.57\n",
      "Median error: 570.65\n",
      "Max 5 errors: [1395.3 2129.1 3405.8 3774.3 3920.9]\n",
      "Hyperparameters: \n",
      "{'morse_transform': {'morse': True, 'morse_alpha': 1.5}, 'pip': {'degree_reduction': False, 'pip': True}, 'scale_X': 'mm01', 'scale_y': 'std'}\n",
      "Test Dataset 1345.78\n",
      "Full Dataset 988.67\n",
      "Median error: 560.21\n",
      "Max 5 errors: [1324.8 2129.4 3409.5 3784.3 3928.1]\n",
      "Hyperparameters: \n",
      "{'morse_transform': {'morse': False}, 'pip': {'degree_reduction': True, 'pip': True}, 'scale_X': None, 'scale_y': None}\n",
      "Test Dataset 22.08\n",
      "Full Dataset 15.99\n",
      "Median error: 5.79\n",
      "Max 5 errors: [38.  39.2 42.9 44.4 58.7]\n",
      "Hyperparameters: \n",
      "{'morse_transform': {'morse': True, 'morse_alpha': 1.7000000000000002}, 'pip': {'degree_reduction': True, 'pip': True}, 'scale_X': 'mm01', 'scale_y': None}\n",
      "Test Dataset 18.55\n",
      "Full Dataset 13.55\n",
      "Median error: 6.46\n",
      "Max 5 errors: [29.8 29.9 35.5 40.4 43.7]\n",
      "Hyperparameters: \n",
      "{'morse_transform': {'morse': False}, 'pip': {'degree_reduction': True, 'pip': True}, 'scale_X': 'std', 'scale_y': None}\n",
      "Test Dataset 22.09\n",
      "Full Dataset 15.99\n",
      "Median error: 5.78\n",
      "Max 5 errors: [38.  39.2 42.9 44.4 58.7]\n",
      "\n",
      "###################################################\n",
      "#                                                 #\n",
      "#     Hyperparameter Optimization Complete!!!     #\n",
      "#                                                 #\n",
      "###################################################\n",
      "\n",
      "Best performing hyperparameters are:\n",
      "[('morse_transform', {'morse': False}), ('pip', {'degree_reduction': False, 'pip': True}), ('scale_X', None), ('scale_y', 'mm01')]\n",
      "Fine-tuning final model architecture...\n",
      "Hyperparameters:  {'morse_transform': {'morse': False}, 'pip': {'degree_reduction': False, 'pip': True}, 'scale_X': None, 'scale_y': 'mm01'}\n",
      "Final model performance (cm-1):\n",
      "Test Dataset 9.38  Full Dataset 6.44     Median error: 1.09  Max 5 errors: [11.8 13.5 18.4 24.8 34.8] \n",
      "\n",
      "Saving ML model data...\n"
     ]
    }
   ],
   "source": [
    "gp = peslearn.ml.GaussianProcess(\"PES.dat\", input_object, molecule_type='A2B')\n",
    "gp.optimize_model()"
   ]
  },
  {
   "cell_type": "markdown",
   "metadata": {},
   "source": [
    "We have found a Gaussian process model which has a 9.38 cm-1 RMS prediction error on the test set of 35 points, and 6.44 cm-1 RMSE for the full 75 point dataset. Very nice! The model information is saved in a directory called `model1_data`, and if further models are trained (perhaps with different random seeds and maybe constrained hyperparameters) additional models will be saved in this same format but with increasing integer values `model2_data` `model3_data`... "
   ]
  },
  {
   "cell_type": "markdown",
   "metadata": {},
   "source": [
    "A neural network can be trained with nearly identical syntax, though one may want to specify additional keywords.\n",
    "```python\n",
    "nn = peslearn.ml.NeuralNetwork(\"PES.dat\", input_object, molecule_type='A2B')\n",
    "nn.optimize_model()\n",
    "```"
   ]
  },
  {
   "cell_type": "code",
   "execution_count": null,
   "metadata": {},
   "outputs": [],
   "source": []
  }
 ],
 "metadata": {
  "kernelspec": {
   "display_name": "Python 3",
   "language": "python",
   "name": "python3"
  },
  "language_info": {
   "codemirror_mode": {
    "name": "ipython",
    "version": 3
   },
   "file_extension": ".py",
   "mimetype": "text/x-python",
   "name": "python",
   "nbconvert_exporter": "python",
   "pygments_lexer": "ipython3",
   "version": "3.6.3"
  }
 },
 "nbformat": 4,
 "nbformat_minor": 2
}
